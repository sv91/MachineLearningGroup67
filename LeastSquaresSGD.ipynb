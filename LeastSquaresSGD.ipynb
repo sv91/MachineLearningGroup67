{
 "cells": [
  {
   "cell_type": "code",
   "execution_count": null,
   "metadata": {
    "collapsed": true
   },
   "outputs": [],
   "source": [
    "# Useful starting lines\n",
    "%matplotlib inline\n",
    "import numpy as np\n",
    "import matplotlib.pyplot as plt\n",
    "%load_ext autoreload\n",
    "%autoreload 2\n",
    "\n",
    "from numpy.random import rand, randn\n",
    "\n",
    "def least_squares_SGD(y, tx, gamma, max_iters):\n",
    "    w = np.zeros(y.shape[0])\n",
    "    for i in range(max_iters):\n",
    "        r = np.random.random_integers(0,y.shape[0])\n",
    "        ln = computeGradient(y[r],tx[r,:],w)\n",
    "        w = w - gamma * ln\n",
    "    return w\n",
    "\n",
    "def computeGradient(y,tx,w)\n",
    "    e = y - tx.dot(b)\n",
    "    return transpose(-tx * e)\n"
   ]
  }
 ],
 "metadata": {
  "kernelspec": {
   "display_name": "Python [default]",
   "language": "python",
   "name": "python3"
  },
  "language_info": {
   "codemirror_mode": {
    "name": "ipython",
    "version": 3
   },
   "file_extension": ".py",
   "mimetype": "text/x-python",
   "name": "python",
   "nbconvert_exporter": "python",
   "pygments_lexer": "ipython3",
   "version": "3.5.2"
  }
 },
 "nbformat": 4,
 "nbformat_minor": 1
}
